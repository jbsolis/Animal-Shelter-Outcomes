{
 "cells": [
  {
   "cell_type": "code",
   "execution_count": 106,
   "metadata": {},
   "outputs": [],
   "source": [
    "%matplotlib inline\n",
    "import pandas as pd\n",
    "import numpy as np\n",
    "import pickle\n",
    "\n",
    "import itertools\n",
    "import matplotlib.pyplot as plt\n",
    "from sklearn.utils import shuffle\n",
    "\n",
    "from sklearn.preprocessing import LabelEncoder\n",
    "from sklearn.preprocessing import OneHotEncoder\n",
    "\n",
    "from sklearn.linear_model import LogisticRegression\n",
    "from sklearn.ensemble import RandomForestClassifier, BaggingClassifier\n",
    "from xgboost import XGBClassifier\n",
    "\n",
    "from sklearn.pipeline import Pipeline\n",
    "from sklearn.feature_selection import SelectKBest, f_classif\n",
    "from sklearn.model_selection import GridSearchCV\n",
    "from sklearn.cross_validation import train_test_split, StratifiedShuffleSplit\n",
    "from sklearn.metrics import log_loss, accuracy_score,f1_score, confusion_matrix"
   ]
  },
  {
   "cell_type": "code",
   "execution_count": 107,
   "metadata": {
    "collapsed": true
   },
   "outputs": [],
   "source": [
    "c_train = pd.read_csv(\"clean_train.csv\")\n",
    "c_test = pd.read_csv(\"clean_test.csv\")"
   ]
  },
  {
   "cell_type": "code",
   "execution_count": 108,
   "metadata": {
    "collapsed": true
   },
   "outputs": [],
   "source": [
    "def label_encode(category):\n",
    "    label_encoder = LabelEncoder()\n",
    "    integer_encoded = label_encoder.fit_transform(category)\n",
    "    return integer_encoded"
   ]
  },
  {
   "cell_type": "code",
   "execution_count": 109,
   "metadata": {
    "collapsed": true
   },
   "outputs": [],
   "source": [
    "def one_hot(data):\n",
    "    data = data.reshape(len(data), 1)\n",
    "    onehot_encoder = OneHotEncoder(sparse=False)\n",
    "    data = onehot_encoder.fit_transform(data)\n",
    "    return data"
   ]
  },
  {
   "cell_type": "code",
   "execution_count": 110,
   "metadata": {
    "collapsed": true
   },
   "outputs": [],
   "source": [
    "c_train['SexuponOutcome'] = c_train.IsAltered + c_train.Gender\n",
    "c_test['SexuponOutcome'] = c_test.IsAltered + c_test.Gender"
   ]
  },
  {
   "cell_type": "code",
   "execution_count": 111,
   "metadata": {
    "collapsed": true
   },
   "outputs": [],
   "source": [
    "# Select features you want in model\n",
    "wanted_features = ['AnimalType', 'SexuponOutcome', 'HasName', 'Year',\n",
    "                  'Month', 'Day', 'Hour', 'DayofWeek',\n",
    "                  'BreedType', 'CleanAge']"
   ]
  },
  {
   "cell_type": "code",
   "execution_count": 112,
   "metadata": {
    "collapsed": true
   },
   "outputs": [],
   "source": [
    "test = c_test[wanted_features]"
   ]
  },
  {
   "cell_type": "code",
   "execution_count": 113,
   "metadata": {},
   "outputs": [
    {
     "name": "stderr",
     "output_type": "stream",
     "text": [
      "C:\\Users\\jbsol\\Anaconda3\\envs\\ipykernel_py3\\lib\\site-packages\\pandas\\core\\generic.py:3110: SettingWithCopyWarning: \n",
      "A value is trying to be set on a copy of a slice from a DataFrame.\n",
      "Try using .loc[row_indexer,col_indexer] = value instead\n",
      "\n",
      "See the caveats in the documentation: http://pandas.pydata.org/pandas-docs/stable/indexing.html#indexing-view-versus-copy\n",
      "  self[name] = value\n"
     ]
    }
   ],
   "source": [
    "# Encode all categorical data\n",
    "test.AnimalType = label_encode(test.AnimalType)\n",
    "#test.Gender = label_encode(test.Gender)\n",
    "test.HasName = label_encode(test.HasName)\n",
    "#test.IsAltered = label_encode(test.IsAltered)\n",
    "test.BreedType = label_encode(test.BreedType)\n",
    "test.SexuponOutcome = label_encode(test.SexuponOutcome)"
   ]
  },
  {
   "cell_type": "code",
   "execution_count": 114,
   "metadata": {},
   "outputs": [
    {
     "name": "stderr",
     "output_type": "stream",
     "text": [
      "C:\\Users\\jbsol\\Anaconda3\\envs\\ipykernel_py3\\lib\\site-packages\\pandas\\core\\generic.py:3110: SettingWithCopyWarning: \n",
      "A value is trying to be set on a copy of a slice from a DataFrame.\n",
      "Try using .loc[row_indexer,col_indexer] = value instead\n",
      "\n",
      "See the caveats in the documentation: http://pandas.pydata.org/pandas-docs/stable/indexing.html#indexing-view-versus-copy\n",
      "  self[name] = value\n"
     ]
    }
   ],
   "source": [
    "test.CleanAge = np.log(test.CleanAge+1)"
   ]
  },
  {
   "cell_type": "code",
   "execution_count": 115,
   "metadata": {
    "collapsed": true
   },
   "outputs": [],
   "source": [
    "# Seperate labels from features.  Delete OutcomeSubtype\n",
    "c_train = shuffle(c_train, random_state = 42)\n",
    "labels = c_train.OutcomeType\n",
    "features = c_train[wanted_features]"
   ]
  },
  {
   "cell_type": "code",
   "execution_count": 116,
   "metadata": {},
   "outputs": [
    {
     "data": {
      "text/html": [
       "<div>\n",
       "<style>\n",
       "    .dataframe thead tr:only-child th {\n",
       "        text-align: right;\n",
       "    }\n",
       "\n",
       "    .dataframe thead th {\n",
       "        text-align: left;\n",
       "    }\n",
       "\n",
       "    .dataframe tbody tr th {\n",
       "        vertical-align: top;\n",
       "    }\n",
       "</style>\n",
       "<table border=\"1\" class=\"dataframe\">\n",
       "  <thead>\n",
       "    <tr style=\"text-align: right;\">\n",
       "      <th></th>\n",
       "      <th>AnimalType</th>\n",
       "      <th>SexuponOutcome</th>\n",
       "      <th>HasName</th>\n",
       "      <th>Year</th>\n",
       "      <th>Month</th>\n",
       "      <th>Day</th>\n",
       "      <th>Hour</th>\n",
       "      <th>DayofWeek</th>\n",
       "      <th>BreedType</th>\n",
       "      <th>CleanAge</th>\n",
       "    </tr>\n",
       "  </thead>\n",
       "  <tbody>\n",
       "    <tr>\n",
       "      <th>3197</th>\n",
       "      <td>Dog</td>\n",
       "      <td>AlteredFemale</td>\n",
       "      <td>True</td>\n",
       "      <td>2014</td>\n",
       "      <td>9</td>\n",
       "      <td>8</td>\n",
       "      <td>15</td>\n",
       "      <td>0</td>\n",
       "      <td>Mixed Breed</td>\n",
       "      <td>9.000000</td>\n",
       "    </tr>\n",
       "    <tr>\n",
       "      <th>17183</th>\n",
       "      <td>Cat</td>\n",
       "      <td>AlteredFemale</td>\n",
       "      <td>False</td>\n",
       "      <td>2014</td>\n",
       "      <td>11</td>\n",
       "      <td>25</td>\n",
       "      <td>18</td>\n",
       "      <td>1</td>\n",
       "      <td>Mixed Breed</td>\n",
       "      <td>0.250000</td>\n",
       "    </tr>\n",
       "    <tr>\n",
       "      <th>6235</th>\n",
       "      <td>Cat</td>\n",
       "      <td>UnknownUnknown</td>\n",
       "      <td>False</td>\n",
       "      <td>2014</td>\n",
       "      <td>3</td>\n",
       "      <td>6</td>\n",
       "      <td>14</td>\n",
       "      <td>3</td>\n",
       "      <td>Mixed Breed</td>\n",
       "      <td>0.666667</td>\n",
       "    </tr>\n",
       "    <tr>\n",
       "      <th>1968</th>\n",
       "      <td>Dog</td>\n",
       "      <td>AlteredFemale</td>\n",
       "      <td>True</td>\n",
       "      <td>2014</td>\n",
       "      <td>11</td>\n",
       "      <td>17</td>\n",
       "      <td>17</td>\n",
       "      <td>0</td>\n",
       "      <td>Mixed Breed</td>\n",
       "      <td>5.000000</td>\n",
       "    </tr>\n",
       "    <tr>\n",
       "      <th>23186</th>\n",
       "      <td>Cat</td>\n",
       "      <td>AlteredFemale</td>\n",
       "      <td>True</td>\n",
       "      <td>2014</td>\n",
       "      <td>4</td>\n",
       "      <td>13</td>\n",
       "      <td>12</td>\n",
       "      <td>6</td>\n",
       "      <td>Mixed Breed</td>\n",
       "      <td>11.000000</td>\n",
       "    </tr>\n",
       "  </tbody>\n",
       "</table>\n",
       "</div>"
      ],
      "text/plain": [
       "      AnimalType  SexuponOutcome  HasName  Year  Month  Day  Hour  DayofWeek  \\\n",
       "3197         Dog   AlteredFemale     True  2014      9    8    15          0   \n",
       "17183        Cat   AlteredFemale    False  2014     11   25    18          1   \n",
       "6235         Cat  UnknownUnknown    False  2014      3    6    14          3   \n",
       "1968         Dog   AlteredFemale     True  2014     11   17    17          0   \n",
       "23186        Cat   AlteredFemale     True  2014      4   13    12          6   \n",
       "\n",
       "         BreedType   CleanAge  \n",
       "3197   Mixed Breed   9.000000  \n",
       "17183  Mixed Breed   0.250000  \n",
       "6235   Mixed Breed   0.666667  \n",
       "1968   Mixed Breed   5.000000  \n",
       "23186  Mixed Breed  11.000000  "
      ]
     },
     "execution_count": 116,
     "metadata": {},
     "output_type": "execute_result"
    }
   ],
   "source": [
    "features.head()"
   ]
  },
  {
   "cell_type": "code",
   "execution_count": 117,
   "metadata": {
    "collapsed": true
   },
   "outputs": [],
   "source": [
    "labels = label_encode(labels)"
   ]
  },
  {
   "cell_type": "code",
   "execution_count": 118,
   "metadata": {},
   "outputs": [
    {
     "name": "stderr",
     "output_type": "stream",
     "text": [
      "C:\\Users\\jbsol\\Anaconda3\\envs\\ipykernel_py3\\lib\\site-packages\\pandas\\core\\generic.py:3110: SettingWithCopyWarning: \n",
      "A value is trying to be set on a copy of a slice from a DataFrame.\n",
      "Try using .loc[row_indexer,col_indexer] = value instead\n",
      "\n",
      "See the caveats in the documentation: http://pandas.pydata.org/pandas-docs/stable/indexing.html#indexing-view-versus-copy\n",
      "  self[name] = value\n"
     ]
    }
   ],
   "source": [
    "features.AnimalType = label_encode(features.AnimalType)\n",
    "#features.Gender = label_encode(features.Gender)\n",
    "features.HasName = label_encode(features.HasName)\n",
    "#features.IsAltered = label_encode(features.IsAltered)\n",
    "features.BreedType = label_encode(features.BreedType)\n",
    "features.SexuponOutcome = label_encode(features.SexuponOutcome)\n",
    "features.CleanAge = np.log(features.CleanAge + 1)"
   ]
  },
  {
   "cell_type": "code",
   "execution_count": 119,
   "metadata": {
    "collapsed": true
   },
   "outputs": [],
   "source": [
    "features_train, features_test, labels_train, labels_test = train_test_split(features, labels, test_size=0.20, random_state=42)"
   ]
  },
  {
   "cell_type": "code",
   "execution_count": 120,
   "metadata": {
    "scrolled": false
   },
   "outputs": [
    {
     "name": "stdout",
     "output_type": "stream",
     "text": [
      "{'LR__C': 10, 'SKB__k': 8}\n",
      "-0.906956603599\n",
      "Pipeline(memory=None,\n",
      "     steps=[('SKB', SelectKBest(k=8, score_func=<function f_classif at 0x0000021DC9A98048>)), ('LR', LogisticRegression(C=10, class_weight=None, dual=False, fit_intercept=True,\n",
      "          intercept_scaling=1, max_iter=100, multi_class='ovr', n_jobs=1,\n",
      "          penalty='l2', random_state=1123, solver='liblinear', tol=0.0001,\n",
      "          verbose=0, warm_start=False))])\n"
     ]
    }
   ],
   "source": [
    "# Run model if it exists\n",
    "try:\n",
    "    classifier_f = open(\"bag_log_reg.pickle\", \"rb\")\n",
    "    classifier = pickle.load(classifier_f)\n",
    "    classifier_f.close()\n",
    "    lrclf = classifier.best_estimator_\n",
    "    print(classifier.best_params_)\n",
    "    print(classifier.best_score_)\n",
    "    print(lrclf)\n",
    "    \n",
    "except OSError:\n",
    "    logreg = LogisticRegression(random_state = 1123)\n",
    "    skb = SelectKBest(f_classif)\n",
    "\n",
    "    pipeline = Pipeline(steps=[(\"SKB\",skb),\n",
    "                                   (\"LR\", logreg)])\n",
    "\n",
    "    params = {'SKB__k':[8],\n",
    "              'LR__C': [10]}\n",
    "\n",
    "    split = StratifiedShuffleSplit(labels_train, test_size=0.25, random_state=42)\n",
    "\n",
    "    gs = GridSearchCV(pipeline, params, cv = split, scoring = 'neg_log_loss')\n",
    "\n",
    "    gs.fit(features_train,labels_train)\n",
    "    lrclf=gs.best_estimator_\n",
    "    print(gs.best_params_)\n",
    "    print(gs.best_score_)\n",
    "    print(lrclf)\n",
    "\n",
    "    save_classifier = open(\"bag_log_reg.pickle\",\"wb\")\n",
    "    pickle.dump(gs, save_classifier)\n",
    "    save_classifier.close()"
   ]
  },
  {
   "cell_type": "code",
   "execution_count": 121,
   "metadata": {},
   "outputs": [
    {
     "name": "stdout",
     "output_type": "stream",
     "text": [
      "[[ -2.20e-01  -1.21e+00   7.83e-01  -5.63e-04   1.42e-01   1.36e-01\n",
      "   -1.42e-01  -1.06e+00]\n",
      " [ -3.53e-01   5.91e-01  -1.83e-01  -1.92e-03  -1.22e-01   3.22e-03\n",
      "    3.36e-02  -2.91e-01]\n",
      " [ -7.80e-02   5.30e-01  -1.07e+00  -1.97e-03  -4.75e-03  -7.67e-02\n",
      "    2.27e-01   1.15e+00]\n",
      " [  1.48e+00   1.26e-01   2.02e+00  -3.15e-03   5.42e-02  -5.58e-02\n",
      "    2.12e-01   9.88e-01]\n",
      " [ -4.72e-01   6.24e-01  -9.01e-01   9.72e-04  -1.47e-01  -7.84e-02\n",
      "   -5.04e-03  -1.80e-01]]\n"
     ]
    }
   ],
   "source": [
    "#print(classifier.best_estimator_.named_steps['SKB'].get_support())\n",
    "print(classifier.best_estimator_.named_steps['LR'].coef_)"
   ]
  },
  {
   "cell_type": "code",
   "execution_count": 122,
   "metadata": {
    "scrolled": false
   },
   "outputs": [
    {
     "name": "stdout",
     "output_type": "stream",
     "text": [
      "{'RF__min_samples_leaf': 10, 'RF__n_estimators': 500, 'SKB__k': 9}\n",
      "-0.784364769068\n",
      "Pipeline(memory=None,\n",
      "     steps=[('SKB', SelectKBest(k=9, score_func=<function f_classif at 0x0000021DC9A98048>)), ('RF', RandomForestClassifier(bootstrap=True, class_weight=None, criterion='gini',\n",
      "            max_depth=None, max_features='auto', max_leaf_nodes=None,\n",
      "            min_impurity_decrease=0.0, min_impurity_split=...n_jobs=1,\n",
      "            oob_score=False, random_state=1122, verbose=0,\n",
      "            warm_start=False))])\n"
     ]
    }
   ],
   "source": [
    "try:\n",
    "    classifier_f = open(\"rf.pickle\", \"rb\")\n",
    "    classifier = pickle.load(classifier_f)\n",
    "    classifier_f.close()\n",
    "    \n",
    "    rfclf = classifier.best_estimator_\n",
    "    print(classifier.best_params_)\n",
    "    print(classifier.best_score_)\n",
    "    print(rfclf)\n",
    "except OSError:\n",
    "    rf = RandomForestClassifier(random_state=1122)\n",
    "    skb = SelectKBest(f_classif)\n",
    "\n",
    "    pipeline = Pipeline(steps=[(\"SKB\",skb),\n",
    "                                   (\"RF\", rf)])\n",
    "\n",
    "    params = {'SKB__k':[9],'RF__n_estimators': [500],'RF__min_samples_leaf': [10]}\n",
    "\n",
    "    split = StratifiedShuffleSplit(labels_train, test_size=0.25, random_state=42)\n",
    "\n",
    "    gs = GridSearchCV(pipeline, params, cv = split, scoring = 'neg_log_loss')\n",
    "\n",
    "    gs.fit(features_train,labels_train)\n",
    "    rfclf=gs.best_estimator_\n",
    "    print(gs.best_params_)\n",
    "    print(gs.best_score_)\n",
    "    print(rfclf)\n",
    "\n",
    "    save_classifier = open(\"rf.pickle\",\"wb\")\n",
    "    pickle.dump(gs, save_classifier)\n",
    "    save_classifier.close()"
   ]
  },
  {
   "cell_type": "code",
   "execution_count": 123,
   "metadata": {},
   "outputs": [
    {
     "name": "stdout",
     "output_type": "stream",
     "text": [
      "[ 0.05  0.3   0.1   0.02  0.05  0.15  0.06  0.01  0.25]\n"
     ]
    }
   ],
   "source": [
    "#print(classifier.best_estimator_.named_steps['SKB'].get_support())\n",
    "print(classifier.best_estimator_.named_steps['RF'].feature_importances_ )"
   ]
  },
  {
   "cell_type": "code",
   "execution_count": 124,
   "metadata": {
    "scrolled": false
   },
   "outputs": [
    {
     "name": "stdout",
     "output_type": "stream",
     "text": [
      "{'SKB__k': 10, 'XGB__max_depth': 7, 'XGB__min_child_weight': 4}\n",
      "-0.763625983395\n",
      "Pipeline(memory=None,\n",
      "     steps=[('SKB', SelectKBest(k=10, score_func=<function f_classif at 0x0000021DC9A98048>)), ('XGB', XGBClassifier(base_score=0.5, booster='gbtree', colsample_bylevel=1,\n",
      "       colsample_bytree=1, gamma=0, learning_rate=0.1, max_delta_step=0,\n",
      "       max_depth=7, min_child_weight=4, missing=nan, n_estimators=100,\n",
      "       n_jobs=1, nthread=None, objective='multi:softprob',\n",
      "       random_state=1123, reg_alpha=0, reg_lambda=1, scale_pos_weight=1,\n",
      "       seed=None, silent=True, subsample=1))])\n"
     ]
    }
   ],
   "source": [
    "try:\n",
    "    classifier_f = open(\"xgb.pickle\", \"rb\")\n",
    "    classifier = pickle.load(classifier_f)\n",
    "    classifier_f.close()\n",
    "    \n",
    "    xgclf = classifier.best_estimator_\n",
    "    print(classifier.best_params_)\n",
    "    print(classifier.best_score_)\n",
    "    print(xgclf)\n",
    "except OSError:\n",
    "    xgbc = XGBClassifier(random_state = 1123)\n",
    "    skb = SelectKBest(f_classif)\n",
    "\n",
    "    pipeline = Pipeline(steps=[(\"SKB\",skb), (\"XGB\", xgbc)])\n",
    "\n",
    "    params = {'SKB__k':[10],\n",
    "              'XGB__max_depth': [7],\n",
    "              'XGB__min_child_weight':[4],\n",
    "              #'XGB__gamma':[0.1]\n",
    "             }\n",
    "\n",
    "    split = StratifiedShuffleSplit(labels_train, test_size=0.25, random_state=42)\n",
    "\n",
    "    gs = GridSearchCV(pipeline, params, cv = split, scoring = 'neg_log_loss')\n",
    "\n",
    "    gs.fit(features_train,labels_train)\n",
    "    xgclf=gs.best_estimator_\n",
    "    print(gs.best_params_)\n",
    "    print(gs.best_score_)\n",
    "    print(xgclf)\n",
    "\n",
    "    save_classifier = open(\"xgb.pickle\",\"wb\")\n",
    "    pickle.dump(gs, save_classifier)\n",
    "    save_classifier.close()"
   ]
  },
  {
   "cell_type": "code",
   "execution_count": 125,
   "metadata": {},
   "outputs": [
    {
     "name": "stdout",
     "output_type": "stream",
     "text": [
      "[ 0.05  0.05  0.03  0.06  0.14  0.2   0.18  0.1   0.02  0.17]\n"
     ]
    }
   ],
   "source": [
    "print(classifier.best_estimator_.named_steps['XGB'].feature_importances_ )"
   ]
  },
  {
   "cell_type": "code",
   "execution_count": 127,
   "metadata": {
    "collapsed": true
   },
   "outputs": [],
   "source": [
    "predict1 = lrclf.predict_proba(test)\n",
    "predict2 = xgclf.predict_proba(test)\n",
    "predict3 = rfclf.predict_proba(test)\n",
    "final_prediction = (predict3 + predict2)/2"
   ]
  },
  {
   "cell_type": "code",
   "execution_count": 128,
   "metadata": {
    "collapsed": true
   },
   "outputs": [],
   "source": [
    "c_predict_rf = rfclf.predict(features_test)\n",
    "c_predict_xgb = xgclf.predict(features_test)"
   ]
  },
  {
   "cell_type": "code",
   "execution_count": 138,
   "metadata": {},
   "outputs": [],
   "source": [
    "c_predict_ensemble = (rfclf.predict_proba(features_test) + xgclf.predict_proba(features_test))/2\n",
    "c_predict_ensemble = np.argmax(c_predict_ensemble, axis=1)"
   ]
  },
  {
   "cell_type": "code",
   "execution_count": 96,
   "metadata": {
    "collapsed": true
   },
   "outputs": [],
   "source": [
    "def plot_confusion_matrix(cm, classes,\n",
    "                          normalize=False,\n",
    "                          title='Confusion matrix',\n",
    "                          cmap=plt.cm.Blues):\n",
    "    \"\"\"\n",
    "    This function prints and plots the confusion matrix.\n",
    "    Normalization can be applied by setting `normalize=True`.\n",
    "    \"\"\"\n",
    "    if normalize:\n",
    "        cm = cm.astype('float') / cm.sum(axis=1)[:, np.newaxis]\n",
    "        print(\"Normalized confusion matrix\")\n",
    "    else:\n",
    "        print('Confusion matrix, without normalization')\n",
    "\n",
    "    print(cm)\n",
    "    plt.figure(figsize=(7,7))\n",
    "    plt.imshow(cm, interpolation='nearest', cmap=cmap)\n",
    "    plt.title(title)\n",
    "    plt.colorbar()\n",
    "    tick_marks = np.arange(len(classes))\n",
    "    plt.xticks(tick_marks, classes, rotation=45)\n",
    "    plt.yticks(tick_marks, classes)\n",
    "\n",
    "    fmt = '.2f' if normalize else 'd'\n",
    "    thresh = cm.max() / 2.\n",
    "    for i, j in itertools.product(range(cm.shape[0]), range(cm.shape[1])):\n",
    "        plt.text(j, i, format(cm[i, j], fmt),\n",
    "                 horizontalalignment=\"center\",\n",
    "                 color=\"white\" if cm[i, j] > thresh else \"black\")\n",
    "\n",
    "    plt.tight_layout()\n",
    "    plt.ylabel('True label')\n",
    "    plt.xlabel('Predicted label')"
   ]
  },
  {
   "cell_type": "code",
   "execution_count": 57,
   "metadata": {
    "collapsed": true
   },
   "outputs": [],
   "source": [
    "cnf_matrix_rf = confusion_matrix(labels_test, c_predict_rf)\n",
    "np.set_printoptions(precision=2)"
   ]
  },
  {
   "cell_type": "code",
   "execution_count": 58,
   "metadata": {
    "collapsed": true
   },
   "outputs": [],
   "source": [
    "cnf_matrix_xgb = confusion_matrix(labels_test, c_predict_xgb)\n",
    "np.set_printoptions(precision=2)"
   ]
  },
  {
   "cell_type": "code",
   "execution_count": 97,
   "metadata": {
    "collapsed": true
   },
   "outputs": [],
   "source": [
    "cnf_matrix_ensemble = confusion_matrix(labels_test, c_predict_ensemble)\n",
    "np.set_printoptions(precision=2)"
   ]
  },
  {
   "cell_type": "code",
   "execution_count": 64,
   "metadata": {},
   "outputs": [
    {
     "name": "stdout",
     "output_type": "stream",
     "text": [
      "Confusion matrix, without normalization\n",
      "[[1838    0    1  202  129]\n",
      " [   5    0    0    2   25]\n",
      " [  58    0   56   69  130]\n",
      " [ 407    0    0  442  104]\n",
      " [ 354    0   12  166 1346]]\n"
     ]
    },
    {
     "data": {
      "image/png": "[encoded data removed]",
      "text/plain": [
       "<matplotlib.figure.Figure at 0x21dcb0e3f98>"
      ]
     },
     "metadata": {},
     "output_type": "display_data"
    }
   ],
   "source": [
    "plot_confusion_matrix(cnf_matrix_rf, \n",
    "                      classes=['Adoption','Died','Euthanasia','Return to Owner','Transfer'],\n",
    "                      normalize=False,\n",
    "                      title = \"Confusion Matrix - Random Forest Model\")"
   ]
  },
  {
   "cell_type": "code",
   "execution_count": 66,
   "metadata": {},
   "outputs": [
    {
     "name": "stdout",
     "output_type": "stream",
     "text": [
      "Confusion matrix, without normalization\n",
      "[[1823    0    4  211  132]\n",
      " [   6    5    2    2   17]\n",
      " [  50    0   82   67  114]\n",
      " [ 385    0    6  456  106]\n",
      " [ 325    2   40  171 1340]]\n"
     ]
    },
    {
     "data": {
      "image/png": "[encoded data removed]",
      "text/plain": [
       "<matplotlib.figure.Figure at 0x21dd6c992b0>"
      ]
     },
     "metadata": {},
     "output_type": "display_data"
    }
   ],
   "source": [
    "plot_confusion_matrix(cnf_matrix_xgb,\n",
    "                      classes=['Adoption','Died','Euthanasia','Return to Owner','Transfer'],\n",
    "                      normalize=False,\n",
    "                      title = 'Confusion Matrix - XGBoost Model')"
   ]
  },
  {
   "cell_type": "code",
   "execution_count": 102,
   "metadata": {},
   "outputs": [
    {
     "name": "stdout",
     "output_type": "stream",
     "text": [
      "Confusion matrix, without normalization\n",
      "[[1834    0    3  199  134]\n",
      " [   6    2    1    2   21]\n",
      " [  57    0   67   66  123]\n",
      " [ 410    0    3  438  102]\n",
      " [ 331    0   24  172 1351]]\n"
     ]
    },
    {
     "data": {
      "image/png": "[encoded data removed]",
      "text/plain": [
       "<matplotlib.figure.Figure at 0x21dd6e78e80>"
      ]
     },
     "metadata": {},
     "output_type": "display_data"
    }
   ],
   "source": [
    "plot_confusion_matrix(cnf_matrix_ensemble, \n",
    "                      classes=['Adoption','Died','Euthanasia','Return to Owner','Transfer'],\n",
    "                      normalize=False,\n",
    "                      title = \"Random Forest & XGBoost Ensemble\")"
   ]
  },
  {
   "cell_type": "code",
   "execution_count": 82,
   "metadata": {
    "collapsed": true
   },
   "outputs": [],
   "source": [
    "output = pd.DataFrame(final_prediction,columns=['Adoption','Died','Euthanasia','Return_to_owner','Transfer'])\n",
    "output.index.names = ['ID']\n",
    "output.index += 1\n",
    "output['ID'] = output.index\n",
    "output.to_csv('predictions.csv', columns = ['ID','Adoption','Died','Euthanasia','Return_to_owner','Transfer'], index = False)"
   ]
  },
  {
   "cell_type": "code",
   "execution_count": null,
   "metadata": {
    "collapsed": true
   },
   "outputs": [],
   "source": []
  }
 ],
 "metadata": {
  "kernelspec": {
   "display_name": "Python 3",
   "language": "python",
   "name": "python3"
  },
  "language_info": {
   "codemirror_mode": {
    "name": "ipython",
    "version": 3
   },
   "file_extension": ".py",
   "mimetype": "text/x-python",
   "name": "python",
   "nbconvert_exporter": "python",
   "pygments_lexer": "ipython3",
   "version": "3.6.2"
  }
 },
 "nbformat": 4,
 "nbformat_minor": 2
}
