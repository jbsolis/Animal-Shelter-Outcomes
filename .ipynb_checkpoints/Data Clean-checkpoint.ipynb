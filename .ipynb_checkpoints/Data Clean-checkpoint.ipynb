{
 "cells": [
  {
   "cell_type": "code",
   "execution_count": 1,
   "metadata": {
    "collapsed": true
   },
   "outputs": [],
   "source": [
    "import pandas as pd\n",
    "import numpy as np"
   ]
  },
  {
   "cell_type": "code",
   "execution_count": 2,
   "metadata": {
    "collapsed": true
   },
   "outputs": [],
   "source": [
    "train = pd.read_csv(\"train.csv.gz\", compression = \"gzip\", \n",
    "                    dtype = {\"AnimalID\" : str,\n",
    "                            \"Name\" : str,\n",
    "                            \"DateTime\" : object,\n",
    "                            \"OutcomeType\" : str,\n",
    "                            \"OutcomeSubtype\" : str,\n",
    "                            \"AnimalType\" : str,\n",
    "                            \"SexuponOutcome\" : str,\n",
    "                            \"AgeuponOutcome\" : str,\n",
    "                            \"Breed\" : str,\n",
    "                            \"Color\" : str})\n",
    "test = pd.read_csv(\"test.csv.gz\", compression = \"gzip\",\n",
    "                   dtype = {\"AnimalID\" : str,\n",
    "                            \"Name\" : str,\n",
    "                            \"DateTime\" : object,\n",
    "                            \"AnimalType\" : str,\n",
    "                            \"SexuponOutcome\" : str,\n",
    "                            \"AgeuponOutcome\" : str,\n",
    "                            \"Breed\" : str,\n",
    "                            \"Color\" : str})"
   ]
  },
  {
   "cell_type": "code",
   "execution_count": 3,
   "metadata": {
    "collapsed": true
   },
   "outputs": [],
   "source": [
    "# See if pet has a name\n",
    "def has_name(name):\n",
    "    if pd.isnull(name):\n",
    "        return False\n",
    "    else:\n",
    "        return True"
   ]
  },
  {
   "cell_type": "code",
   "execution_count": 4,
   "metadata": {
    "collapsed": true
   },
   "outputs": [],
   "source": [
    "# Extract year, month, day, hour from datetime\n",
    "def extract_datetime(dataset):\n",
    "    dataset['Year'] = pd.DatetimeIndex(dataset.DateTime).year\n",
    "    dataset['Month'] = pd.DatetimeIndex(dataset.DateTime).month\n",
    "    dataset['Day'] = pd.DatetimeIndex(dataset.DateTime).day\n",
    "    dataset['Hour'] = pd.DatetimeIndex(dataset.DateTime).hour\n",
    "    dataset['DayofWeek'] = pd.DatetimeIndex(dataset.DateTime).dayofweek\n",
    "    return dataset"
   ]
  },
  {
   "cell_type": "code",
   "execution_count": 5,
   "metadata": {
    "collapsed": true
   },
   "outputs": [],
   "source": [
    "def is_altered(SexuponOutcome):\n",
    "    if \"unknown\" in SexuponOutcome.lower():\n",
    "        return \"Unknown\"\n",
    "    elif \"intact\" in SexuponOutcome.lower():\n",
    "        return \"Intact\"\n",
    "    else:\n",
    "        return \"Altered\""
   ]
  },
  {
   "cell_type": "code",
   "execution_count": 6,
   "metadata": {
    "collapsed": true
   },
   "outputs": [],
   "source": [
    "def gender(SexuponOutcome):\n",
    "    if \"unknown\" in SexuponOutcome.lower():\n",
    "        return \"Unknown\"\n",
    "    elif \"female\" in SexuponOutcome.lower():\n",
    "        return \"Female\"\n",
    "    else:\n",
    "        return \"Male\""
   ]
  },
  {
   "cell_type": "code",
   "execution_count": 8,
   "metadata": {},
   "outputs": [],
   "source": [
    "def breed_type(breed):\n",
    "    #if \"/\" in breed or \"mix\" in breed.lower():\n",
    "    if \"mix\" in breed.lower():\n",
    "        return \"Mixed Breed\"\n",
    "    else:\n",
    "        return \"Full Breed\""
   ]
  },
  {
   "cell_type": "code",
   "execution_count": 9,
   "metadata": {
    "collapsed": true
   },
   "outputs": [],
   "source": [
    "def clean_age(x):\n",
    "    if x == 'nan': return 0\n",
    "    age = int(x.split()[0])\n",
    "    if x.find('year') > -1: return age \n",
    "    if x.find('month')> -1: return age / 12.\n",
    "    if x.find('week')> -1: return age / 52.\n",
    "    if x.find('day')> -1: return age / 365.\n",
    "    else: return 0"
   ]
  },
  {
   "cell_type": "code",
   "execution_count": 10,
   "metadata": {
    "collapsed": true
   },
   "outputs": [],
   "source": [
    "def clean_data(data):\n",
    "    data['HasName'] = data.Name.apply(has_name)\n",
    "    extract_datetime(data)\n",
    "    data['IsAltered'] = data.SexuponOutcome.astype(str).apply(is_altered)\n",
    "    data['Gender'] = data.SexuponOutcome.astype(str).apply(gender)\n",
    "    data['BreedType'] = data.Breed.astype(str).apply(breed_type)\n",
    "    data['CleanAge'] = data.AgeuponOutcome.astype(str).apply(clean_age)\n",
    "    return data"
   ]
  },
  {
   "cell_type": "code",
   "execution_count": 11,
   "metadata": {
    "scrolled": true
   },
   "outputs": [
    {
     "name": "stdout",
     "output_type": "stream",
     "text": [
      "  AnimalID     Name             DateTime      OutcomeType OutcomeSubtype  \\\n",
      "0  A671945  Hambone  2014-02-12 18:22:00  Return_to_owner            NaN   \n",
      "1  A656520    Emily  2013-10-13 12:44:00       Euthanasia      Suffering   \n",
      "2  A686464   Pearce  2015-01-31 12:28:00         Adoption         Foster   \n",
      "3  A683430      NaN  2014-07-11 19:09:00         Transfer        Partner   \n",
      "4  A667013      NaN  2013-11-15 12:52:00         Transfer        Partner   \n",
      "5  A677334     Elsa  2014-04-25 13:04:00         Transfer        Partner   \n",
      "6  A699218    Jimmy  2015-03-28 13:11:00         Transfer        Partner   \n",
      "7  A701489      NaN  2015-04-30 17:02:00         Transfer        Partner   \n",
      "8  A671784     Lucy  2014-02-04 17:17:00         Adoption            NaN   \n",
      "9  A677747      NaN  2014-05-03 07:48:00         Adoption        Offsite   \n",
      "\n",
      "  AnimalType SexuponOutcome AgeuponOutcome                              Breed  \\\n",
      "0        Dog  Neutered Male         1 year              Shetland Sheepdog Mix   \n",
      "1        Cat  Spayed Female         1 year             Domestic Shorthair Mix   \n",
      "2        Dog  Neutered Male        2 years                       Pit Bull Mix   \n",
      "3        Cat    Intact Male        3 weeks             Domestic Shorthair Mix   \n",
      "4        Dog  Neutered Male        2 years        Lhasa Apso/Miniature Poodle   \n",
      "5        Dog  Intact Female        1 month  Cairn Terrier/Chihuahua Shorthair   \n",
      "6        Cat    Intact Male        3 weeks             Domestic Shorthair Mix   \n",
      "7        Cat        Unknown        3 weeks             Domestic Shorthair Mix   \n",
      "8        Dog  Spayed Female       5 months      American Pit Bull Terrier Mix   \n",
      "9        Dog  Spayed Female         1 year                      Cairn Terrier   \n",
      "\n",
      "         Color  HasName  Year  Month  Day  Hour  DayofWeek IsAltered   Gender  \\\n",
      "0  Brown/White     True  2014      2   12    18          2   Altered     Male   \n",
      "1  Cream Tabby     True  2013     10   13    12          6   Altered   Female   \n",
      "2   Blue/White     True  2015      1   31    12          5   Altered     Male   \n",
      "3   Blue Cream    False  2014      7   11    19          4    Intact     Male   \n",
      "4          Tan    False  2013     11   15    12          4   Altered     Male   \n",
      "5    Black/Tan     True  2014      4   25    13          4    Intact   Female   \n",
      "6   Blue Tabby     True  2015      3   28    13          5    Intact     Male   \n",
      "7  Brown Tabby    False  2015      4   30    17          3   Unknown  Unknown   \n",
      "8    Red/White     True  2014      2    4    17          1   Altered   Female   \n",
      "9        White    False  2014      5    3     7          5   Altered   Female   \n",
      "\n",
      "     BreedType  CleanAge  \n",
      "0  Mixed Breed  1.000000  \n",
      "1  Mixed Breed  1.000000  \n",
      "2  Mixed Breed  2.000000  \n",
      "3  Mixed Breed  0.057692  \n",
      "4   Full Breed  2.000000  \n",
      "5   Full Breed  0.083333  \n",
      "6  Mixed Breed  0.057692  \n",
      "7  Mixed Breed  0.057692  \n",
      "8  Mixed Breed  0.416667  \n",
      "9   Full Breed  1.000000  \n"
     ]
    }
   ],
   "source": [
    "clean_train = clean_data(train)\n",
    "print(clean_train.head(10))\n",
    "clean_train.to_csv(\"clean_{0}.csv\".format(\"train\"))"
   ]
  },
  {
   "cell_type": "code",
   "execution_count": 12,
   "metadata": {},
   "outputs": [
    {
     "name": "stdout",
     "output_type": "stream",
     "text": [
      "   ID        Name             DateTime AnimalType SexuponOutcome  \\\n",
      "0   1      Summer  2015-10-12 12:15:00        Dog  Intact Female   \n",
      "1   2    Cheyenne  2014-07-26 17:59:00        Dog  Spayed Female   \n",
      "2   3         Gus  2016-01-13 12:20:00        Cat  Neutered Male   \n",
      "3   4       Pongo  2013-12-28 18:12:00        Dog    Intact Male   \n",
      "4   5     Skooter  2015-09-24 17:59:00        Dog  Neutered Male   \n",
      "5   6        Beau  2015-06-23 11:17:00        Dog  Neutered Male   \n",
      "6   7        Bobo  2014-03-12 09:45:00        Cat  Neutered Male   \n",
      "7   8        Abby  2014-06-25 08:27:00        Cat  Spayed Female   \n",
      "8   9  Ruby Grace  2014-11-12 18:05:00        Dog  Spayed Female   \n",
      "9  10        Ruby  2014-04-07 17:41:00        Dog  Spayed Female   \n",
      "\n",
      "  AgeuponOutcome                           Breed              Color  HasName  \\\n",
      "0      10 months          Labrador Retriever Mix          Red/White     True   \n",
      "1        2 years  German Shepherd/Siberian Husky          Black/Tan     True   \n",
      "2         1 year          Domestic Shorthair Mix        Brown Tabby     True   \n",
      "3       4 months               Collie Smooth Mix           Tricolor     True   \n",
      "4        2 years            Miniature Poodle Mix              White     True   \n",
      "5        3 years                      Beagle Mix        Brown/White     True   \n",
      "6       13 years        Domestic Medium Hair Mix  Brown Tabby/White     True   \n",
      "7       6 months          Domestic Shorthair Mix        Brown Tabby     True   \n",
      "8       3 months                   Cairn Terrier        Black/Cream     True   \n",
      "9         1 year                    Pit Bull Mix        Brown/White     True   \n",
      "\n",
      "   Year  Month  Day  Hour  DayofWeek IsAltered  Gender    BreedType   CleanAge  \n",
      "0  2015     10   12    12          0    Intact  Female  Mixed Breed   0.833333  \n",
      "1  2014      7   26    17          5   Altered  Female   Full Breed   2.000000  \n",
      "2  2016      1   13    12          2   Altered    Male  Mixed Breed   1.000000  \n",
      "3  2013     12   28    18          5    Intact    Male  Mixed Breed   0.333333  \n",
      "4  2015      9   24    17          3   Altered    Male  Mixed Breed   2.000000  \n",
      "5  2015      6   23    11          1   Altered    Male  Mixed Breed   3.000000  \n",
      "6  2014      3   12     9          2   Altered    Male  Mixed Breed  13.000000  \n",
      "7  2014      6   25     8          2   Altered  Female  Mixed Breed   0.500000  \n",
      "8  2014     11   12    18          2   Altered  Female   Full Breed   0.250000  \n",
      "9  2014      4    7    17          0   Altered  Female  Mixed Breed   1.000000  \n"
     ]
    }
   ],
   "source": [
    "clean_test = clean_data(test)\n",
    "print(clean_test.head(10))\n",
    "clean_test.to_csv(\"clean_{0}.csv\".format(\"test\"))"
   ]
  },
  {
   "cell_type": "code",
   "execution_count": null,
   "metadata": {
    "collapsed": true
   },
   "outputs": [],
   "source": []
  }
 ],
 "metadata": {
  "kernelspec": {
   "display_name": "Python 3",
   "language": "python",
   "name": "python3"
  },
  "language_info": {
   "codemirror_mode": {
    "name": "ipython",
    "version": 3
   },
   "file_extension": ".py",
   "mimetype": "text/x-python",
   "name": "python",
   "nbconvert_exporter": "python",
   "pygments_lexer": "ipython3",
   "version": "3.6.2"
  }
 },
 "nbformat": 4,
 "nbformat_minor": 2
}
